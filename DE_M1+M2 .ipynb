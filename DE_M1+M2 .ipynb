{
  "nbformat": 4,
  "nbformat_minor": 0,
  "metadata": {
    "colab": {
      "name": "DE_M1+M2.ipynb",
      "provenance": [],
      "collapsed_sections": []
    },
    "kernelspec": {
      "name": "python3",
      "display_name": "Python 3"
    },
    "language_info": {
      "name": "python"
    }
  },
  "cells": [
    {
      "cell_type": "code",
      "metadata": {
        "id": "x1eM_wMPf1ye"
      },
      "source": [
        "import matplotlib.pyplot as plt\n",
        "import pandas as pd\n",
        "import numpy as np\n",
        "import seaborn as sns"
      ],
      "execution_count": 59,
      "outputs": []
    },
    {
      "cell_type": "code",
      "metadata": {
        "id": "gx7Zvm3yf_qg",
        "colab": {
          "base_uri": "https://localhost:8080/",
          "height": 537
        },
        "outputId": "bdfa2385-c5a9-469e-907f-799b1f3c9dcc"
      },
      "source": [
        "olympic_original= pd.read_csv('/content/athlete_events.csv')  #Importing Dataset \n",
        "noc_regions= pd.read_csv('/content/noc_regions.csv')  #Importing Dataset\n",
        "olympic_original.head(10) #Printing the first 10 elements of the dataset as a test\n",
        "#noc_regions.head(10)"
      ],
      "execution_count": 60,
      "outputs": [
        {
          "output_type": "execute_result",
          "data": {
            "text/html": [
              "<div>\n",
              "<style scoped>\n",
              "    .dataframe tbody tr th:only-of-type {\n",
              "        vertical-align: middle;\n",
              "    }\n",
              "\n",
              "    .dataframe tbody tr th {\n",
              "        vertical-align: top;\n",
              "    }\n",
              "\n",
              "    .dataframe thead th {\n",
              "        text-align: right;\n",
              "    }\n",
              "</style>\n",
              "<table border=\"1\" class=\"dataframe\">\n",
              "  <thead>\n",
              "    <tr style=\"text-align: right;\">\n",
              "      <th></th>\n",
              "      <th>ID</th>\n",
              "      <th>Name</th>\n",
              "      <th>Sex</th>\n",
              "      <th>Age</th>\n",
              "      <th>Height</th>\n",
              "      <th>Weight</th>\n",
              "      <th>Team</th>\n",
              "      <th>NOC</th>\n",
              "      <th>Games</th>\n",
              "      <th>Year</th>\n",
              "      <th>Season</th>\n",
              "      <th>City</th>\n",
              "      <th>Sport</th>\n",
              "      <th>Event</th>\n",
              "      <th>Medal</th>\n",
              "    </tr>\n",
              "  </thead>\n",
              "  <tbody>\n",
              "    <tr>\n",
              "      <th>0</th>\n",
              "      <td>1</td>\n",
              "      <td>A Dijiang</td>\n",
              "      <td>M</td>\n",
              "      <td>24.0</td>\n",
              "      <td>180.0</td>\n",
              "      <td>80.0</td>\n",
              "      <td>China</td>\n",
              "      <td>CHN</td>\n",
              "      <td>1992 Summer</td>\n",
              "      <td>1992</td>\n",
              "      <td>Summer</td>\n",
              "      <td>Barcelona</td>\n",
              "      <td>Basketball</td>\n",
              "      <td>Basketball Men's Basketball</td>\n",
              "      <td>NaN</td>\n",
              "    </tr>\n",
              "    <tr>\n",
              "      <th>1</th>\n",
              "      <td>2</td>\n",
              "      <td>A Lamusi</td>\n",
              "      <td>M</td>\n",
              "      <td>23.0</td>\n",
              "      <td>170.0</td>\n",
              "      <td>60.0</td>\n",
              "      <td>China</td>\n",
              "      <td>CHN</td>\n",
              "      <td>2012 Summer</td>\n",
              "      <td>2012</td>\n",
              "      <td>Summer</td>\n",
              "      <td>London</td>\n",
              "      <td>Judo</td>\n",
              "      <td>Judo Men's Extra-Lightweight</td>\n",
              "      <td>NaN</td>\n",
              "    </tr>\n",
              "    <tr>\n",
              "      <th>2</th>\n",
              "      <td>3</td>\n",
              "      <td>Gunnar Nielsen Aaby</td>\n",
              "      <td>M</td>\n",
              "      <td>24.0</td>\n",
              "      <td>NaN</td>\n",
              "      <td>NaN</td>\n",
              "      <td>Denmark</td>\n",
              "      <td>DEN</td>\n",
              "      <td>1920 Summer</td>\n",
              "      <td>1920</td>\n",
              "      <td>Summer</td>\n",
              "      <td>Antwerpen</td>\n",
              "      <td>Football</td>\n",
              "      <td>Football Men's Football</td>\n",
              "      <td>NaN</td>\n",
              "    </tr>\n",
              "    <tr>\n",
              "      <th>3</th>\n",
              "      <td>4</td>\n",
              "      <td>Edgar Lindenau Aabye</td>\n",
              "      <td>M</td>\n",
              "      <td>34.0</td>\n",
              "      <td>NaN</td>\n",
              "      <td>NaN</td>\n",
              "      <td>Denmark/Sweden</td>\n",
              "      <td>DEN</td>\n",
              "      <td>1900 Summer</td>\n",
              "      <td>1900</td>\n",
              "      <td>Summer</td>\n",
              "      <td>Paris</td>\n",
              "      <td>Tug-Of-War</td>\n",
              "      <td>Tug-Of-War Men's Tug-Of-War</td>\n",
              "      <td>Gold</td>\n",
              "    </tr>\n",
              "    <tr>\n",
              "      <th>4</th>\n",
              "      <td>5</td>\n",
              "      <td>Christine Jacoba Aaftink</td>\n",
              "      <td>F</td>\n",
              "      <td>21.0</td>\n",
              "      <td>185.0</td>\n",
              "      <td>82.0</td>\n",
              "      <td>Netherlands</td>\n",
              "      <td>NED</td>\n",
              "      <td>1988 Winter</td>\n",
              "      <td>1988</td>\n",
              "      <td>Winter</td>\n",
              "      <td>Calgary</td>\n",
              "      <td>Speed Skating</td>\n",
              "      <td>Speed Skating Women's 500 metres</td>\n",
              "      <td>NaN</td>\n",
              "    </tr>\n",
              "    <tr>\n",
              "      <th>5</th>\n",
              "      <td>5</td>\n",
              "      <td>Christine Jacoba Aaftink</td>\n",
              "      <td>F</td>\n",
              "      <td>21.0</td>\n",
              "      <td>185.0</td>\n",
              "      <td>82.0</td>\n",
              "      <td>Netherlands</td>\n",
              "      <td>NED</td>\n",
              "      <td>1988 Winter</td>\n",
              "      <td>1988</td>\n",
              "      <td>Winter</td>\n",
              "      <td>Calgary</td>\n",
              "      <td>Speed Skating</td>\n",
              "      <td>Speed Skating Women's 1,000 metres</td>\n",
              "      <td>NaN</td>\n",
              "    </tr>\n",
              "    <tr>\n",
              "      <th>6</th>\n",
              "      <td>5</td>\n",
              "      <td>Christine Jacoba Aaftink</td>\n",
              "      <td>F</td>\n",
              "      <td>25.0</td>\n",
              "      <td>185.0</td>\n",
              "      <td>82.0</td>\n",
              "      <td>Netherlands</td>\n",
              "      <td>NED</td>\n",
              "      <td>1992 Winter</td>\n",
              "      <td>1992</td>\n",
              "      <td>Winter</td>\n",
              "      <td>Albertville</td>\n",
              "      <td>Speed Skating</td>\n",
              "      <td>Speed Skating Women's 500 metres</td>\n",
              "      <td>NaN</td>\n",
              "    </tr>\n",
              "    <tr>\n",
              "      <th>7</th>\n",
              "      <td>5</td>\n",
              "      <td>Christine Jacoba Aaftink</td>\n",
              "      <td>F</td>\n",
              "      <td>25.0</td>\n",
              "      <td>185.0</td>\n",
              "      <td>82.0</td>\n",
              "      <td>Netherlands</td>\n",
              "      <td>NED</td>\n",
              "      <td>1992 Winter</td>\n",
              "      <td>1992</td>\n",
              "      <td>Winter</td>\n",
              "      <td>Albertville</td>\n",
              "      <td>Speed Skating</td>\n",
              "      <td>Speed Skating Women's 1,000 metres</td>\n",
              "      <td>NaN</td>\n",
              "    </tr>\n",
              "    <tr>\n",
              "      <th>8</th>\n",
              "      <td>5</td>\n",
              "      <td>Christine Jacoba Aaftink</td>\n",
              "      <td>F</td>\n",
              "      <td>27.0</td>\n",
              "      <td>185.0</td>\n",
              "      <td>82.0</td>\n",
              "      <td>Netherlands</td>\n",
              "      <td>NED</td>\n",
              "      <td>1994 Winter</td>\n",
              "      <td>1994</td>\n",
              "      <td>Winter</td>\n",
              "      <td>Lillehammer</td>\n",
              "      <td>Speed Skating</td>\n",
              "      <td>Speed Skating Women's 500 metres</td>\n",
              "      <td>NaN</td>\n",
              "    </tr>\n",
              "    <tr>\n",
              "      <th>9</th>\n",
              "      <td>5</td>\n",
              "      <td>Christine Jacoba Aaftink</td>\n",
              "      <td>F</td>\n",
              "      <td>27.0</td>\n",
              "      <td>185.0</td>\n",
              "      <td>82.0</td>\n",
              "      <td>Netherlands</td>\n",
              "      <td>NED</td>\n",
              "      <td>1994 Winter</td>\n",
              "      <td>1994</td>\n",
              "      <td>Winter</td>\n",
              "      <td>Lillehammer</td>\n",
              "      <td>Speed Skating</td>\n",
              "      <td>Speed Skating Women's 1,000 metres</td>\n",
              "      <td>NaN</td>\n",
              "    </tr>\n",
              "  </tbody>\n",
              "</table>\n",
              "</div>"
            ],
            "text/plain": [
              "   ID                      Name  ...                               Event  Medal\n",
              "0   1                 A Dijiang  ...         Basketball Men's Basketball    NaN\n",
              "1   2                  A Lamusi  ...        Judo Men's Extra-Lightweight    NaN\n",
              "2   3       Gunnar Nielsen Aaby  ...             Football Men's Football    NaN\n",
              "3   4      Edgar Lindenau Aabye  ...         Tug-Of-War Men's Tug-Of-War   Gold\n",
              "4   5  Christine Jacoba Aaftink  ...    Speed Skating Women's 500 metres    NaN\n",
              "5   5  Christine Jacoba Aaftink  ...  Speed Skating Women's 1,000 metres    NaN\n",
              "6   5  Christine Jacoba Aaftink  ...    Speed Skating Women's 500 metres    NaN\n",
              "7   5  Christine Jacoba Aaftink  ...  Speed Skating Women's 1,000 metres    NaN\n",
              "8   5  Christine Jacoba Aaftink  ...    Speed Skating Women's 500 metres    NaN\n",
              "9   5  Christine Jacoba Aaftink  ...  Speed Skating Women's 1,000 metres    NaN\n",
              "\n",
              "[10 rows x 15 columns]"
            ]
          },
          "metadata": {},
          "execution_count": 60
        }
      ]
    },
    {
      "cell_type": "code",
      "metadata": {
        "colab": {
          "base_uri": "https://localhost:8080/",
          "height": 300
        },
        "id": "2B2ok6p9FSnh",
        "outputId": "23728872-7a26-49d2-e443-6f07684c64b7"
      },
      "source": [
        "#generating the description to identify the first, second, and third quantiles to determine the outliers\n",
        "olympic_original.describe()"
      ],
      "execution_count": 61,
      "outputs": [
        {
          "output_type": "execute_result",
          "data": {
            "text/html": [
              "<div>\n",
              "<style scoped>\n",
              "    .dataframe tbody tr th:only-of-type {\n",
              "        vertical-align: middle;\n",
              "    }\n",
              "\n",
              "    .dataframe tbody tr th {\n",
              "        vertical-align: top;\n",
              "    }\n",
              "\n",
              "    .dataframe thead th {\n",
              "        text-align: right;\n",
              "    }\n",
              "</style>\n",
              "<table border=\"1\" class=\"dataframe\">\n",
              "  <thead>\n",
              "    <tr style=\"text-align: right;\">\n",
              "      <th></th>\n",
              "      <th>ID</th>\n",
              "      <th>Age</th>\n",
              "      <th>Height</th>\n",
              "      <th>Weight</th>\n",
              "      <th>Year</th>\n",
              "    </tr>\n",
              "  </thead>\n",
              "  <tbody>\n",
              "    <tr>\n",
              "      <th>count</th>\n",
              "      <td>271116.000000</td>\n",
              "      <td>261642.000000</td>\n",
              "      <td>210945.000000</td>\n",
              "      <td>208241.000000</td>\n",
              "      <td>271116.000000</td>\n",
              "    </tr>\n",
              "    <tr>\n",
              "      <th>mean</th>\n",
              "      <td>68248.954396</td>\n",
              "      <td>25.556898</td>\n",
              "      <td>175.338970</td>\n",
              "      <td>70.702393</td>\n",
              "      <td>1978.378480</td>\n",
              "    </tr>\n",
              "    <tr>\n",
              "      <th>std</th>\n",
              "      <td>39022.286345</td>\n",
              "      <td>6.393561</td>\n",
              "      <td>10.518462</td>\n",
              "      <td>14.348020</td>\n",
              "      <td>29.877632</td>\n",
              "    </tr>\n",
              "    <tr>\n",
              "      <th>min</th>\n",
              "      <td>1.000000</td>\n",
              "      <td>10.000000</td>\n",
              "      <td>127.000000</td>\n",
              "      <td>25.000000</td>\n",
              "      <td>1896.000000</td>\n",
              "    </tr>\n",
              "    <tr>\n",
              "      <th>25%</th>\n",
              "      <td>34643.000000</td>\n",
              "      <td>21.000000</td>\n",
              "      <td>168.000000</td>\n",
              "      <td>60.000000</td>\n",
              "      <td>1960.000000</td>\n",
              "    </tr>\n",
              "    <tr>\n",
              "      <th>50%</th>\n",
              "      <td>68205.000000</td>\n",
              "      <td>24.000000</td>\n",
              "      <td>175.000000</td>\n",
              "      <td>70.000000</td>\n",
              "      <td>1988.000000</td>\n",
              "    </tr>\n",
              "    <tr>\n",
              "      <th>75%</th>\n",
              "      <td>102097.250000</td>\n",
              "      <td>28.000000</td>\n",
              "      <td>183.000000</td>\n",
              "      <td>79.000000</td>\n",
              "      <td>2002.000000</td>\n",
              "    </tr>\n",
              "    <tr>\n",
              "      <th>max</th>\n",
              "      <td>135571.000000</td>\n",
              "      <td>97.000000</td>\n",
              "      <td>226.000000</td>\n",
              "      <td>214.000000</td>\n",
              "      <td>2016.000000</td>\n",
              "    </tr>\n",
              "  </tbody>\n",
              "</table>\n",
              "</div>"
            ],
            "text/plain": [
              "                  ID            Age  ...         Weight           Year\n",
              "count  271116.000000  261642.000000  ...  208241.000000  271116.000000\n",
              "mean    68248.954396      25.556898  ...      70.702393    1978.378480\n",
              "std     39022.286345       6.393561  ...      14.348020      29.877632\n",
              "min         1.000000      10.000000  ...      25.000000    1896.000000\n",
              "25%     34643.000000      21.000000  ...      60.000000    1960.000000\n",
              "50%     68205.000000      24.000000  ...      70.000000    1988.000000\n",
              "75%    102097.250000      28.000000  ...      79.000000    2002.000000\n",
              "max    135571.000000      97.000000  ...     214.000000    2016.000000\n",
              "\n",
              "[8 rows x 5 columns]"
            ]
          },
          "metadata": {},
          "execution_count": 61
        }
      ]
    },
    {
      "cell_type": "code",
      "metadata": {
        "id": "qk0kVU6_I-WZ"
      },
      "source": [
        "#Handling outliers by replacing values below Q1-1QR*1.5 and values above Q3+IQR*1.5 with the median\n",
        "Q1 = olympic_original.Weight.quantile(0.25)\n",
        "Q3 = olympic_original.Weight.quantile(0.75)\n",
        "IQR = Q3 - Q1\n",
        "for col in olympic_original:\n",
        "    olympic_original.loc[olympic_original['Weight'].between(25,31.5), 'Weight'] = 175\n",
        "    olympic_original.loc[olympic_original['Weight'].between(107.5,214), 'Weight'] = 175\n"
      ],
      "execution_count": 62,
      "outputs": []
    },
    {
      "cell_type": "code",
      "metadata": {
        "id": "OYRHuaSY5qtq"
      },
      "source": [
        "#Handling outliers by replacing values below Q1-1QR*1.5 and values above Q3+IQR*1.5 with the median\n",
        "Q1 = olympic_original.Height.quantile(0.25)\n",
        "Q3 = olympic_original.Height.quantile(0.75)\n",
        "IQR = Q3 - Q1\n",
        "for col in olympic_original:\n",
        "    olympic_original.loc[olympic_original['Height'].between(127,145.5), 'Height'] = 175\n",
        "    olympic_original.loc[olympic_original['Height'].between(205.5,226), 'Height'] = 175\n",
        "\n",
        "#print(IQR)\n",
        "\n",
        "#olympic_original['Height'].describe()\n",
        "\n",
        "#print(olympic_original.Height < (Q1 - 1.5 * IQR)) or (olympic_original.Height > (Q3 + 1.5 * IQR))\n"
      ],
      "execution_count": 63,
      "outputs": []
    },
    {
      "cell_type": "code",
      "metadata": {
        "colab": {
          "base_uri": "https://localhost:8080/",
          "height": 300
        },
        "id": "Upx0btmSDVao",
        "outputId": "b5e2762b-a223-4743-d5b5-a0094fe4115a"
      },
      "source": [
        "olympic_original.describe()"
      ],
      "execution_count": 64,
      "outputs": [
        {
          "output_type": "execute_result",
          "data": {
            "text/html": [
              "<div>\n",
              "<style scoped>\n",
              "    .dataframe tbody tr th:only-of-type {\n",
              "        vertical-align: middle;\n",
              "    }\n",
              "\n",
              "    .dataframe tbody tr th {\n",
              "        vertical-align: top;\n",
              "    }\n",
              "\n",
              "    .dataframe thead th {\n",
              "        text-align: right;\n",
              "    }\n",
              "</style>\n",
              "<table border=\"1\" class=\"dataframe\">\n",
              "  <thead>\n",
              "    <tr style=\"text-align: right;\">\n",
              "      <th></th>\n",
              "      <th>ID</th>\n",
              "      <th>Age</th>\n",
              "      <th>Height</th>\n",
              "      <th>Weight</th>\n",
              "      <th>Year</th>\n",
              "    </tr>\n",
              "  </thead>\n",
              "  <tbody>\n",
              "    <tr>\n",
              "      <th>count</th>\n",
              "      <td>271116.000000</td>\n",
              "      <td>261642.000000</td>\n",
              "      <td>210945.000000</td>\n",
              "      <td>208241.000000</td>\n",
              "      <td>271116.000000</td>\n",
              "    </tr>\n",
              "    <tr>\n",
              "      <th>mean</th>\n",
              "      <td>68248.954396</td>\n",
              "      <td>25.556898</td>\n",
              "      <td>175.344777</td>\n",
              "      <td>71.587348</td>\n",
              "      <td>1978.378480</td>\n",
              "    </tr>\n",
              "    <tr>\n",
              "      <th>std</th>\n",
              "      <td>39022.286345</td>\n",
              "      <td>6.393561</td>\n",
              "      <td>10.158135</td>\n",
              "      <td>18.274491</td>\n",
              "      <td>29.877632</td>\n",
              "    </tr>\n",
              "    <tr>\n",
              "      <th>min</th>\n",
              "      <td>1.000000</td>\n",
              "      <td>10.000000</td>\n",
              "      <td>146.000000</td>\n",
              "      <td>32.000000</td>\n",
              "      <td>1896.000000</td>\n",
              "    </tr>\n",
              "    <tr>\n",
              "      <th>25%</th>\n",
              "      <td>34643.000000</td>\n",
              "      <td>21.000000</td>\n",
              "      <td>168.000000</td>\n",
              "      <td>60.000000</td>\n",
              "      <td>1960.000000</td>\n",
              "    </tr>\n",
              "    <tr>\n",
              "      <th>50%</th>\n",
              "      <td>68205.000000</td>\n",
              "      <td>24.000000</td>\n",
              "      <td>175.000000</td>\n",
              "      <td>70.000000</td>\n",
              "      <td>1988.000000</td>\n",
              "    </tr>\n",
              "    <tr>\n",
              "      <th>75%</th>\n",
              "      <td>102097.250000</td>\n",
              "      <td>28.000000</td>\n",
              "      <td>182.000000</td>\n",
              "      <td>79.000000</td>\n",
              "      <td>2002.000000</td>\n",
              "    </tr>\n",
              "    <tr>\n",
              "      <th>max</th>\n",
              "      <td>135571.000000</td>\n",
              "      <td>97.000000</td>\n",
              "      <td>205.000000</td>\n",
              "      <td>175.000000</td>\n",
              "      <td>2016.000000</td>\n",
              "    </tr>\n",
              "  </tbody>\n",
              "</table>\n",
              "</div>"
            ],
            "text/plain": [
              "                  ID            Age  ...         Weight           Year\n",
              "count  271116.000000  261642.000000  ...  208241.000000  271116.000000\n",
              "mean    68248.954396      25.556898  ...      71.587348    1978.378480\n",
              "std     39022.286345       6.393561  ...      18.274491      29.877632\n",
              "min         1.000000      10.000000  ...      32.000000    1896.000000\n",
              "25%     34643.000000      21.000000  ...      60.000000    1960.000000\n",
              "50%     68205.000000      24.000000  ...      70.000000    1988.000000\n",
              "75%    102097.250000      28.000000  ...      79.000000    2002.000000\n",
              "max    135571.000000      97.000000  ...     175.000000    2016.000000\n",
              "\n",
              "[8 rows x 5 columns]"
            ]
          },
          "metadata": {},
          "execution_count": 64
        }
      ]
    },
    {
      "cell_type": "code",
      "metadata": {
        "id": "9xp6v8JqJllB",
        "colab": {
          "base_uri": "https://localhost:8080/",
          "height": 295
        },
        "outputId": "ec4f2616-a0c5-45e9-89bc-f8e73505939e"
      },
      "source": [
        "#Question 1: Number of male participants for the top 10 countries (based on amount of male particpants sent)\n",
        "\n",
        "olympic_original_sexM = olympic_original[olympic_original['Sex']=='M'] #Extracting Male participanta only from the dataset\n",
        "\n",
        "\n",
        "#Bar Graph: Comparing between the count of the male participants for different groups (Top 10 countries)\n",
        "\n",
        "tp10_men = olympic_original_sexM[\"NOC\"] # Highest number of male participants per noc\n",
        "tpval_men=tp10_men.value_counts().head(10)\n",
        "tpval_men.plot(kind='bar') #Plots the top 10 countries for male participants\n",
        "\n",
        "\n"
      ],
      "execution_count": 65,
      "outputs": [
        {
          "output_type": "execute_result",
          "data": {
            "text/plain": [
              "<matplotlib.axes._subplots.AxesSubplot at 0x7f4edddb5890>"
            ]
          },
          "metadata": {},
          "execution_count": 65
        },
        {
          "output_type": "display_data",
          "data": {
            "image/png": "[encoded data removed]",
            "text/plain": [
              "<Figure size 432x288 with 1 Axes>"
            ]
          },
          "metadata": {
            "needs_background": "light"
          }
        }
      ]
    },
    {
      "cell_type": "code",
      "metadata": {
        "colab": {
          "base_uri": "https://localhost:8080/",
          "height": 351
        },
        "id": "m2hYSEYbGlSD",
        "outputId": "4822e1b5-2b3b-4099-f87a-e166800f4759"
      },
      "source": [
        "#Question 2: Height distribution for all Olympians throughout the years\n",
        "\n",
        "# Clean dataset for data values with no height\n",
        "olympic_original_cleaned_height = olympic_original.dropna(axis='index', subset=['Height'])\n",
        "#olympic_original_cleaned_height\n",
        "\n",
        "# Remove duplicates from dataset (based on ID)\n",
        "olympic_original_cleaned_height = olympic_original_cleaned_height.drop_duplicates(subset =\"ID\")\n",
        "#olympic_original_cleaned_height.head(10)\n",
        "\n",
        "#Box Plot: Used to show the distribution of Height data for olympians. (Shows quartiles and outliers)\n",
        "\n",
        "#Boxplot the data extracted\n",
        "sns.boxplot(olympic_original_cleaned_height['Height'])"
      ],
      "execution_count": 66,
      "outputs": [
        {
          "output_type": "stream",
          "name": "stderr",
          "text": [
            "/usr/local/lib/python3.7/dist-packages/seaborn/_decorators.py:43: FutureWarning: Pass the following variable as a keyword arg: x. From version 0.12, the only valid positional argument will be `data`, and passing other arguments without an explicit keyword will result in an error or misinterpretation.\n",
            "  FutureWarning\n"
          ]
        },
        {
          "output_type": "execute_result",
          "data": {
            "text/plain": [
              "<matplotlib.axes._subplots.AxesSubplot at 0x7f4ed40c0410>"
            ]
          },
          "metadata": {},
          "execution_count": 66
        },
        {
          "output_type": "display_data",
          "data": {
            "image/png": "[encoded data removed]",
            "text/plain": [
              "<Figure size 432x288 with 1 Axes>"
            ]
          },
          "metadata": {
            "needs_background": "light"
          }
        }
      ]
    },
    {
      "cell_type": "code",
      "metadata": {
        "colab": {
          "base_uri": "https://localhost:8080/",
          "height": 298
        },
        "id": "5d7W4Tt7NP43",
        "outputId": "52e585c6-dd6c-4b26-a88a-56e649b90644"
      },
      "source": [
        "#Question 3: Number of participants between the Years\n",
        "\n",
        "olympic_sexM = olympic_original[olympic_original['Sex']=='M'] #Extracting Male participanta only from the dataset\n",
        "olympic_sexF = olympic_original[olympic_original['Sex']=='F']  #Extracting Female participanta only from the dataset\n",
        "\n",
        "olympic_sexM_sorted = olympic_sexM.sort_values(by='Year', ascending=True) #Sort dataset according to year\n",
        "\n",
        "\n",
        "olympic_sexF_sorted = olympic_sexF.sort_values(by='Year', ascending=True) #Sort dataset according to year\n",
        "\n",
        "\n",
        "yearcount_men = olympic_sexM_sorted[\"Year\"].value_counts() #Obtain values from sorted dataset (Males)\n",
        "yearcount_men_sorted = yearcount_men.sort_index()\n",
        "\n",
        "yearcount_women = olympic_sexF_sorted[\"Year\"].value_counts() #Obtain values from sorted dataset (Females)\n",
        "yearcount_women_sorted = yearcount_women.sort_index()\n",
        "\n",
        "#Line Graph: Track changes of male and female participants each year over time.\n",
        "\n",
        "plt.plot(yearcount_men_sorted.index,yearcount_men_sorted, label=\"Male\", marker='<', markeredgecolor='red') #Plot the first set of data on plot\n",
        "plt.plot(yearcount_women_sorted.index,yearcount_women_sorted, label=\"Female\", marker='<', markeredgecolor='red') #Plot the second set of data on plot\n",
        "plt.title('Number of Participants') #Assign title to graph\n",
        "plt.locator_params(integer=True) #to make ticks on axes integers\n",
        "plt.legend(loc=1)\n",
        "\n",
        "\n",
        "# Scatter Plot\n",
        "\n"
      ],
      "execution_count": 67,
      "outputs": [
        {
          "output_type": "execute_result",
          "data": {
            "text/plain": [
              "<matplotlib.legend.Legend at 0x7f4ed4059950>"
            ]
          },
          "metadata": {},
          "execution_count": 67
        },
        {
          "output_type": "display_data",
          "data": {
            "image/png": "[encoded data removed]",
            "text/plain": [
              "<Figure size 432x288 with 1 Axes>"
            ]
          },
          "metadata": {
            "needs_background": "light"
          }
        }
      ]
    },
    {
      "cell_type": "code",
      "metadata": {
        "colab": {
          "base_uri": "https://localhost:8080/",
          "height": 265
        },
        "id": "E8TGoEamfsOc",
        "outputId": "07c16fb3-55d9-45bb-d3c1-eaf8e22ed59a"
      },
      "source": [
        "# Question 4: Top 5 performing countries in terms of medals and their medal distribution\n",
        "\n",
        "olympic_original_cleaned_medal = olympic_original.dropna(axis='index', subset=['Medal']) #Drop rows in which no column data is avaliable\n",
        "\n",
        "\n",
        "\n",
        "#Sort Data by country for the top 5 performing countries\n",
        "USADataFrame = olympic_original_cleaned_medal[olympic_original_cleaned_medal['NOC'] == 'USA'] \n",
        "URSDataframe = olympic_original_cleaned_medal[olympic_original_cleaned_medal['NOC'] == 'URS']\n",
        "GERDataFrame = olympic_original_cleaned_medal[olympic_original_cleaned_medal['NOC'] == 'GER']\n",
        "GBRDataFrame = olympic_original_cleaned_medal[olympic_original_cleaned_medal['NOC'] == 'GBR']\n",
        "FRADataFrame = olympic_original_cleaned_medal[olympic_original_cleaned_medal['NOC'] == 'FRA']\n",
        "\n",
        "#Sorting data by type of medal\n",
        "\n",
        "USAGold = USADataFrame[USADataFrame['Medal'] == 'Gold']\n",
        "USASilver = USADataFrame[USADataFrame['Medal'] == 'Silver']\n",
        "USABronze = USADataFrame[USADataFrame['Medal'] == 'Bronze']\n",
        "\n",
        "\n",
        "URSGold = URSDataframe[URSDataframe['Medal'] == 'Gold']\n",
        "URSSilver = URSDataframe[URSDataframe['Medal'] == 'Silver']\n",
        "URSBronze = URSDataframe[URSDataframe['Medal'] == 'Bronze']\n",
        "\n",
        "\n",
        "GERGold = GERDataFrame[GERDataFrame['Medal'] == 'Gold']\n",
        "GERSilver = GERDataFrame[GERDataFrame['Medal'] == 'Silver']\n",
        "GERBronze = GERDataFrame[GERDataFrame['Medal'] == 'Bronze']\n",
        "\n",
        "\n",
        "GBRGold = GBRDataFrame[GBRDataFrame['Medal'] == 'Gold']\n",
        "GBRSilver = GBRDataFrame[GBRDataFrame['Medal'] == 'Silver']\n",
        "GBRBronze = GBRDataFrame[GBRDataFrame['Medal'] == 'Bronze']\n",
        "\n",
        "\n",
        "FRAGold = FRADataFrame[FRADataFrame['Medal'] == 'Gold']\n",
        "FRASilver = FRADataFrame[FRADataFrame['Medal'] == 'Silver']\n",
        "FRABronze = FRADataFrame[FRADataFrame['Medal'] == 'Bronze']\n",
        "\n",
        "USA_Medals = USADataFrame[\"Medal\"].value_counts()\n",
        "\n",
        "#Assigning number of medals in arrays to be used for the stacked bar chart then plot it with the data\n",
        "\n",
        "Gold = [len(USAGold), len(URSGold), len(GERGold), len(GBRGold), len(FRAGold)]\n",
        "Silver =[len(USASilver), len(URSSilver), len(GERSilver), len(GBRSilver), len(FRASilver)]\n",
        "Bronze = [len(USABronze), len(URSBronze), len(GERBronze), len(GBRBronze), len(FRABronze)]\n",
        "\n",
        "index = ['USA', 'URS', 'GER', 'GBR', 'FRA']\n",
        "df = pd.DataFrame({'Gold': Gold,\n",
        "                   'Silver': Silver,\n",
        "                   'Bronze': Bronze}, index=index)\n",
        "\n",
        "#Stacked Bar Chart: Showing comparisons between medal categories for the top 5 performing countries.\n",
        "\n",
        "ax = df.plot.bar(rot=0, stacked = True, color={\"Gold\": \"yellow\", \"Silver\": \"gray\", \"Bronze\": \"orange\"})\n",
        "\n",
        "\n",
        "\n"
      ],
      "execution_count": 68,
      "outputs": [
        {
          "output_type": "display_data",
          "data": {
            "image/png": "[encoded data removed]",
            "text/plain": [
              "<Figure size 432x288 with 1 Axes>"
            ]
          },
          "metadata": {
            "needs_background": "light"
          }
        }
      ]
    },
    {
      "cell_type": "code",
      "metadata": {
        "colab": {
          "base_uri": "https://localhost:8080/",
          "height": 334
        },
        "id": "Z5NzjRkkxXS1",
        "outputId": "4227d77c-4f05-4b0c-d24f-97e89134bae6"
      },
      "source": [
        "#Question 5: Which Cities hosted the games more than once\n",
        "\n",
        "\n",
        "#Drop rows where city column is empty\n",
        "cleaned_cities = olympic_original.dropna(axis='index', subset=['City']) \n",
        "\n",
        "#Remove duplicates based on games\n",
        "cleaned_cities_Duplicates = cleaned_cities.drop_duplicates(subset=['Games'])\n",
        "\n",
        "#Sort values\n",
        "cleaned_cities_sorted = cleaned_cities_Duplicates.sort_values(by=['Games'], ascending=True)\n",
        "\n",
        "#Count Sorted Values\n",
        "cleaned_cities_sorted_count = cleaned_cities_sorted['City'].value_counts()\n",
        "\n",
        "#Bar Graph: Displaying different countries that hosted the Olympics more than once, and how many times they were hosted.\n",
        "\n",
        "#Plot bar chart\n",
        "cleaned_cities_sorted_count.head(7).plot(kind='bar')\n",
        "\n"
      ],
      "execution_count": 69,
      "outputs": [
        {
          "output_type": "execute_result",
          "data": {
            "text/plain": [
              "<matplotlib.axes._subplots.AxesSubplot at 0x7f4ed403a450>"
            ]
          },
          "metadata": {},
          "execution_count": 69
        },
        {
          "output_type": "display_data",
          "data": {
            "image/png": "[encoded data removed]",
            "text/plain": [
              "<Figure size 432x288 with 1 Axes>"
            ]
          },
          "metadata": {
            "needs_background": "light"
          }
        }
      ]
    },
    {
      "cell_type": "markdown",
      "source": [
        "#Milestone 2"
      ],
      "metadata": {
        "id": "81eaGJvs50Dq"
      }
    },
    {
      "cell_type": "code",
      "source": [
        "import matplotlib.pyplot as plt\n",
        "import pandas as pd\n",
        "import numpy as np\n",
        "import seaborn as sns"
      ],
      "metadata": {
        "id": "uLBGd_o-nTvk"
      },
      "execution_count": 72,
      "outputs": []
    },
    {
      "cell_type": "code",
      "source": [
        "data1 = pd.read_csv('/content/athlete_events.csv')\n",
        "data2 = pd.read_csv('/content/noc_regions.csv')\n",
        "\n",
        "# using merge function by setting how='inner'\n",
        "output = pd.merge(data1, data2, \n",
        "                   on='NOC', \n",
        "                   how='inner')\n",
        "\n",
        "output.head()\n",
        "  "
      ],
      "metadata": {
        "colab": {
          "base_uri": "https://localhost:8080/",
          "height": 310
        },
        "id": "YQ_xMDmCnFoO",
        "outputId": "ec629b07-d46e-4063-c02f-da69c969b46a"
      },
      "execution_count": 73,
      "outputs": [
        {
          "output_type": "execute_result",
          "data": {
            "text/html": [
              "<div>\n",
              "<style scoped>\n",
              "    .dataframe tbody tr th:only-of-type {\n",
              "        vertical-align: middle;\n",
              "    }\n",
              "\n",
              "    .dataframe tbody tr th {\n",
              "        vertical-align: top;\n",
              "    }\n",
              "\n",
              "    .dataframe thead th {\n",
              "        text-align: right;\n",
              "    }\n",
              "</style>\n",
              "<table border=\"1\" class=\"dataframe\">\n",
              "  <thead>\n",
              "    <tr style=\"text-align: right;\">\n",
              "      <th></th>\n",
              "      <th>ID</th>\n",
              "      <th>Name</th>\n",
              "      <th>Sex</th>\n",
              "      <th>Age</th>\n",
              "      <th>Height</th>\n",
              "      <th>Weight</th>\n",
              "      <th>Team</th>\n",
              "      <th>NOC</th>\n",
              "      <th>Games</th>\n",
              "      <th>Year</th>\n",
              "      <th>Season</th>\n",
              "      <th>City</th>\n",
              "      <th>Sport</th>\n",
              "      <th>Event</th>\n",
              "      <th>Medal</th>\n",
              "      <th>region</th>\n",
              "      <th>notes</th>\n",
              "    </tr>\n",
              "  </thead>\n",
              "  <tbody>\n",
              "    <tr>\n",
              "      <th>0</th>\n",
              "      <td>1</td>\n",
              "      <td>A Dijiang</td>\n",
              "      <td>M</td>\n",
              "      <td>24.0</td>\n",
              "      <td>180.0</td>\n",
              "      <td>80.0</td>\n",
              "      <td>China</td>\n",
              "      <td>CHN</td>\n",
              "      <td>1992 Summer</td>\n",
              "      <td>1992</td>\n",
              "      <td>Summer</td>\n",
              "      <td>Barcelona</td>\n",
              "      <td>Basketball</td>\n",
              "      <td>Basketball Men's Basketball</td>\n",
              "      <td>NaN</td>\n",
              "      <td>China</td>\n",
              "      <td>NaN</td>\n",
              "    </tr>\n",
              "    <tr>\n",
              "      <th>1</th>\n",
              "      <td>2</td>\n",
              "      <td>A Lamusi</td>\n",
              "      <td>M</td>\n",
              "      <td>23.0</td>\n",
              "      <td>170.0</td>\n",
              "      <td>60.0</td>\n",
              "      <td>China</td>\n",
              "      <td>CHN</td>\n",
              "      <td>2012 Summer</td>\n",
              "      <td>2012</td>\n",
              "      <td>Summer</td>\n",
              "      <td>London</td>\n",
              "      <td>Judo</td>\n",
              "      <td>Judo Men's Extra-Lightweight</td>\n",
              "      <td>NaN</td>\n",
              "      <td>China</td>\n",
              "      <td>NaN</td>\n",
              "    </tr>\n",
              "    <tr>\n",
              "      <th>2</th>\n",
              "      <td>602</td>\n",
              "      <td>Abudoureheman</td>\n",
              "      <td>M</td>\n",
              "      <td>22.0</td>\n",
              "      <td>182.0</td>\n",
              "      <td>75.0</td>\n",
              "      <td>China</td>\n",
              "      <td>CHN</td>\n",
              "      <td>2000 Summer</td>\n",
              "      <td>2000</td>\n",
              "      <td>Summer</td>\n",
              "      <td>Sydney</td>\n",
              "      <td>Boxing</td>\n",
              "      <td>Boxing Men's Middleweight</td>\n",
              "      <td>NaN</td>\n",
              "      <td>China</td>\n",
              "      <td>NaN</td>\n",
              "    </tr>\n",
              "    <tr>\n",
              "      <th>3</th>\n",
              "      <td>1463</td>\n",
              "      <td>Ai Linuer</td>\n",
              "      <td>M</td>\n",
              "      <td>25.0</td>\n",
              "      <td>160.0</td>\n",
              "      <td>62.0</td>\n",
              "      <td>China</td>\n",
              "      <td>CHN</td>\n",
              "      <td>2004 Summer</td>\n",
              "      <td>2004</td>\n",
              "      <td>Summer</td>\n",
              "      <td>Athina</td>\n",
              "      <td>Wrestling</td>\n",
              "      <td>Wrestling Men's Lightweight, Greco-Roman</td>\n",
              "      <td>NaN</td>\n",
              "      <td>China</td>\n",
              "      <td>NaN</td>\n",
              "    </tr>\n",
              "    <tr>\n",
              "      <th>4</th>\n",
              "      <td>1464</td>\n",
              "      <td>Ai Yanhan</td>\n",
              "      <td>F</td>\n",
              "      <td>14.0</td>\n",
              "      <td>168.0</td>\n",
              "      <td>54.0</td>\n",
              "      <td>China</td>\n",
              "      <td>CHN</td>\n",
              "      <td>2016 Summer</td>\n",
              "      <td>2016</td>\n",
              "      <td>Summer</td>\n",
              "      <td>Rio de Janeiro</td>\n",
              "      <td>Swimming</td>\n",
              "      <td>Swimming Women's 200 metres Freestyle</td>\n",
              "      <td>NaN</td>\n",
              "      <td>China</td>\n",
              "      <td>NaN</td>\n",
              "    </tr>\n",
              "  </tbody>\n",
              "</table>\n",
              "</div>"
            ],
            "text/plain": [
              "     ID           Name Sex  ...  Medal  region  notes\n",
              "0     1      A Dijiang   M  ...    NaN   China    NaN\n",
              "1     2       A Lamusi   M  ...    NaN   China    NaN\n",
              "2   602  Abudoureheman   M  ...    NaN   China    NaN\n",
              "3  1463      Ai Linuer   M  ...    NaN   China    NaN\n",
              "4  1464      Ai Yanhan   F  ...    NaN   China    NaN\n",
              "\n",
              "[5 rows x 17 columns]"
            ]
          },
          "metadata": {},
          "execution_count": 73
        }
      ]
    },
    {
      "cell_type": "code",
      "source": [
        "#Data Cleaning\n",
        "#Dropping the column 'notes' as it will not be used and it contains a lot of missing values\n",
        "#Removing the columns that contain irrelevant information for the question we want to answer\n",
        "\n",
        "output2 = output.drop(['notes', 'Sport', 'Height', 'Weight', 'Name', 'Age', 'Year', 'Games', 'Season', 'Event', 'Sex'], axis=1)\n",
        "\n",
        "output2.head(10)"
      ],
      "metadata": {
        "colab": {
          "base_uri": "https://localhost:8080/",
          "height": 362
        },
        "id": "EYLlc6nsoVis",
        "outputId": "bd33a8be-db6c-4a0a-c2b6-0e05ac36be47"
      },
      "execution_count": 74,
      "outputs": [
        {
          "output_type": "execute_result",
          "data": {
            "text/html": [
              "<div>\n",
              "<style scoped>\n",
              "    .dataframe tbody tr th:only-of-type {\n",
              "        vertical-align: middle;\n",
              "    }\n",
              "\n",
              "    .dataframe tbody tr th {\n",
              "        vertical-align: top;\n",
              "    }\n",
              "\n",
              "    .dataframe thead th {\n",
              "        text-align: right;\n",
              "    }\n",
              "</style>\n",
              "<table border=\"1\" class=\"dataframe\">\n",
              "  <thead>\n",
              "    <tr style=\"text-align: right;\">\n",
              "      <th></th>\n",
              "      <th>ID</th>\n",
              "      <th>Team</th>\n",
              "      <th>NOC</th>\n",
              "      <th>City</th>\n",
              "      <th>Medal</th>\n",
              "      <th>region</th>\n",
              "    </tr>\n",
              "  </thead>\n",
              "  <tbody>\n",
              "    <tr>\n",
              "      <th>0</th>\n",
              "      <td>1</td>\n",
              "      <td>China</td>\n",
              "      <td>CHN</td>\n",
              "      <td>Barcelona</td>\n",
              "      <td>NaN</td>\n",
              "      <td>China</td>\n",
              "    </tr>\n",
              "    <tr>\n",
              "      <th>1</th>\n",
              "      <td>2</td>\n",
              "      <td>China</td>\n",
              "      <td>CHN</td>\n",
              "      <td>London</td>\n",
              "      <td>NaN</td>\n",
              "      <td>China</td>\n",
              "    </tr>\n",
              "    <tr>\n",
              "      <th>2</th>\n",
              "      <td>602</td>\n",
              "      <td>China</td>\n",
              "      <td>CHN</td>\n",
              "      <td>Sydney</td>\n",
              "      <td>NaN</td>\n",
              "      <td>China</td>\n",
              "    </tr>\n",
              "    <tr>\n",
              "      <th>3</th>\n",
              "      <td>1463</td>\n",
              "      <td>China</td>\n",
              "      <td>CHN</td>\n",
              "      <td>Athina</td>\n",
              "      <td>NaN</td>\n",
              "      <td>China</td>\n",
              "    </tr>\n",
              "    <tr>\n",
              "      <th>4</th>\n",
              "      <td>1464</td>\n",
              "      <td>China</td>\n",
              "      <td>CHN</td>\n",
              "      <td>Rio de Janeiro</td>\n",
              "      <td>NaN</td>\n",
              "      <td>China</td>\n",
              "    </tr>\n",
              "    <tr>\n",
              "      <th>5</th>\n",
              "      <td>1464</td>\n",
              "      <td>China</td>\n",
              "      <td>CHN</td>\n",
              "      <td>Rio de Janeiro</td>\n",
              "      <td>NaN</td>\n",
              "      <td>China</td>\n",
              "    </tr>\n",
              "    <tr>\n",
              "      <th>6</th>\n",
              "      <td>3605</td>\n",
              "      <td>China</td>\n",
              "      <td>CHN</td>\n",
              "      <td>Torino</td>\n",
              "      <td>NaN</td>\n",
              "      <td>China</td>\n",
              "    </tr>\n",
              "    <tr>\n",
              "      <th>7</th>\n",
              "      <td>3605</td>\n",
              "      <td>China</td>\n",
              "      <td>CHN</td>\n",
              "      <td>Torino</td>\n",
              "      <td>NaN</td>\n",
              "      <td>China</td>\n",
              "    </tr>\n",
              "    <tr>\n",
              "      <th>8</th>\n",
              "      <td>3610</td>\n",
              "      <td>China</td>\n",
              "      <td>CHN</td>\n",
              "      <td>Nagano</td>\n",
              "      <td>Silver</td>\n",
              "      <td>China</td>\n",
              "    </tr>\n",
              "    <tr>\n",
              "      <th>9</th>\n",
              "      <td>3610</td>\n",
              "      <td>China</td>\n",
              "      <td>CHN</td>\n",
              "      <td>Nagano</td>\n",
              "      <td>NaN</td>\n",
              "      <td>China</td>\n",
              "    </tr>\n",
              "  </tbody>\n",
              "</table>\n",
              "</div>"
            ],
            "text/plain": [
              "     ID   Team  NOC            City   Medal region\n",
              "0     1  China  CHN       Barcelona     NaN  China\n",
              "1     2  China  CHN          London     NaN  China\n",
              "2   602  China  CHN          Sydney     NaN  China\n",
              "3  1463  China  CHN          Athina     NaN  China\n",
              "4  1464  China  CHN  Rio de Janeiro     NaN  China\n",
              "5  1464  China  CHN  Rio de Janeiro     NaN  China\n",
              "6  3605  China  CHN          Torino     NaN  China\n",
              "7  3605  China  CHN          Torino     NaN  China\n",
              "8  3610  China  CHN          Nagano  Silver  China\n",
              "9  3610  China  CHN          Nagano     NaN  China"
            ]
          },
          "metadata": {},
          "execution_count": 74
        }
      ]
    },
    {
      "cell_type": "code",
      "source": [
        "# Question 6: Top 5 performing countries in terms of medals and their medal distribution (Based on region)(Similar to Question 4 in Milestone 1)\n",
        "\n",
        "output3 = output2.dropna(axis='index', subset=['Medal']) #Drop rows in which no column data is avaliable\n",
        "\n",
        "\n",
        "\n",
        "#Sort Data by country for the top 5 performing countries\n",
        "USADataFrame = output3[output3['region'] == 'USA'] \n",
        "URSDataframe = output3[output3['region'] == 'Russia']\n",
        "GERDataFrame = output3[output3['region'] == 'Germany']\n",
        "GBRDataFrame = output3[output3['region'] == 'UK']\n",
        "FRADataFrame = output3[output3['region'] == 'France']\n",
        "\n",
        "#Sorting data by type of medal\n",
        "\n",
        "USAGold = USADataFrame[USADataFrame['Medal'] == 'Gold']\n",
        "USASilver = USADataFrame[USADataFrame['Medal'] == 'Silver']\n",
        "USABronze = USADataFrame[USADataFrame['Medal'] == 'Bronze']\n",
        "\n",
        "\n",
        "URSGold = URSDataframe[URSDataframe['Medal'] == 'Gold']\n",
        "URSSilver = URSDataframe[URSDataframe['Medal'] == 'Silver']\n",
        "URSBronze = URSDataframe[URSDataframe['Medal'] == 'Bronze']\n",
        "\n",
        "\n",
        "GERGold = GERDataFrame[GERDataFrame['Medal'] == 'Gold']\n",
        "GERSilver = GERDataFrame[GERDataFrame['Medal'] == 'Silver']\n",
        "GERBronze = GERDataFrame[GERDataFrame['Medal'] == 'Bronze']\n",
        "\n",
        "\n",
        "GBRGold = GBRDataFrame[GBRDataFrame['Medal'] == 'Gold']\n",
        "GBRSilver = GBRDataFrame[GBRDataFrame['Medal'] == 'Silver']\n",
        "GBRBronze = GBRDataFrame[GBRDataFrame['Medal'] == 'Bronze']\n",
        "\n",
        "\n",
        "FRAGold = FRADataFrame[FRADataFrame['Medal'] == 'Gold']\n",
        "FRASilver = FRADataFrame[FRADataFrame['Medal'] == 'Silver']\n",
        "FRABronze = FRADataFrame[FRADataFrame['Medal'] == 'Bronze']\n",
        "\n",
        "USA_Medals = USADataFrame[\"Medal\"].value_counts()\n",
        "\n",
        "#Assigning number of medals in arrays to be used for the stacked bar chart then plot it with the data\n",
        "\n",
        "Gold = [len(USAGold), len(URSGold), len(GERGold), len(GBRGold), len(FRAGold)]\n",
        "Silver =[len(USASilver), len(URSSilver), len(GERSilver), len(GBRSilver), len(FRASilver)]\n",
        "Bronze = [len(USABronze), len(URSBronze), len(GERBronze), len(GBRBronze), len(FRABronze)]\n",
        "\n",
        "index = ['USA', 'Russia', 'Germany', 'UK', 'France']\n",
        "df = pd.DataFrame({'Gold': Gold,\n",
        "                   'Silver': Silver,\n",
        "                   'Bronze': Bronze}, index=index)\n",
        "\n",
        "#Stacked Bar Chart: Showing comparisons between medal categories for the top 5 performing countries.\n",
        "\n",
        "ax = df.plot.bar(rot=0, stacked = True, color={\"Gold\": \"yellow\", \"Silver\": \"gray\", \"Bronze\": \"orange\"})"
      ],
      "metadata": {
        "colab": {
          "base_uri": "https://localhost:8080/",
          "height": 265
        },
        "id": "bqV8Z4PuptUj",
        "outputId": "489e6db3-4ea6-4ca3-e100-624847b122cd"
      },
      "execution_count": 75,
      "outputs": [
        {
          "output_type": "display_data",
          "data": {
            "image/png": "[encoded data removed]",
            "text/plain": [
              "<Figure size 432x288 with 1 Axes>"
            ]
          },
          "metadata": {
            "needs_background": "light"
          }
        }
      ]
    },
    {
      "cell_type": "code",
      "source": [
        "#Feature Engineering (1)\n",
        "#Quesion 7: BMI of olympians who won olympic medals\n",
        "\n",
        "\n",
        "#Remove duplicate olympians based on ID\n",
        "#Remove Columns irrelevant to BMW calculation\n",
        "output4 = output.drop(['notes', 'Year', 'Games', 'Season', 'Event', 'Sport', 'NOC', 'Team', 'City','region'], axis=1)\n",
        "output4 = output4.drop_duplicates(subset =\"ID\")\n",
        "\n",
        "#Calculate BMI\n",
        "output4['BMI'] = (output4['Weight'])/(output4['Height']/50)\n",
        "\n",
        "#Obesity Indicator based on BMI\n",
        "output4['Obesity Indicator'] = (output4['BMI'] >= 25)*1\n",
        "\n",
        "\n",
        "#Remove any olympians who have not won medals\n",
        "output5 = output4.dropna(axis='index', subset=['Medal'])\n",
        "\n",
        "#Boxplot to figure out the average winning olympians BMI\n",
        "sns.boxplot(output5['BMI'])\n",
        "\n",
        "\n"
      ],
      "metadata": {
        "colab": {
          "base_uri": "https://localhost:8080/",
          "height": 351
        },
        "id": "g4Ku3Z55t1_E",
        "outputId": "d03c48fb-bcea-44dd-bd11-afbdbcfa30d2"
      },
      "execution_count": 76,
      "outputs": [
        {
          "output_type": "stream",
          "name": "stderr",
          "text": [
            "/usr/local/lib/python3.7/dist-packages/seaborn/_decorators.py:43: FutureWarning: Pass the following variable as a keyword arg: x. From version 0.12, the only valid positional argument will be `data`, and passing other arguments without an explicit keyword will result in an error or misinterpretation.\n",
            "  FutureWarning\n"
          ]
        },
        {
          "output_type": "execute_result",
          "data": {
            "text/plain": [
              "<matplotlib.axes._subplots.AxesSubplot at 0x7f4ed29e71d0>"
            ]
          },
          "metadata": {},
          "execution_count": 76
        },
        {
          "output_type": "display_data",
          "data": {
            "image/png": "[encoded data removed]",
            "text/plain": [
              "<Figure size 432x288 with 1 Axes>"
            ]
          },
          "metadata": {
            "needs_background": "light"
          }
        }
      ]
    },
    {
      "cell_type": "code",
      "source": [
        "#Feature Engineering (2)\n",
        "#Question 8: Number of medals won by each age group\n",
        "\n",
        "#Encoding Age groups\n",
        "output6 = output.dropna(axis='index', subset=['Age'])\n",
        "output6 = output6.drop_duplicates(subset =\"ID\")\n",
        "output6 = output6.dropna(axis='index', subset=['Medal'])\n",
        "\n",
        "\n",
        "age_group = pd.cut(output.Age, [10,20,30,40,100],labels=['young','young-adult', 'middle-aged','old'])\n",
        "output6[\"age_group\"] = age_group\n",
        "\n",
        "output7 = output6.drop(['notes', 'Year', 'Games', 'Season', 'Event', 'Sport', 'NOC', 'Team', 'City','region','Age','Sex','Height', 'Weight'], axis=1)\n",
        "\n",
        "#output7.head(10)\n",
        "\n",
        "#out7_young.shape[0]\n",
        "\n",
        "sns.countplot('age_group',data=output7)\n",
        "plt.title('Bar Plot for Medals won by each age group')\n",
        "plt.show()"
      ],
      "metadata": {
        "colab": {
          "base_uri": "https://localhost:8080/",
          "height": 454
        },
        "id": "BUo1jUhhxnDM",
        "outputId": "cb64beb2-de19-4357-9b0d-1d3da2aa1885"
      },
      "execution_count": 77,
      "outputs": [
        {
          "output_type": "stream",
          "name": "stderr",
          "text": [
            "/usr/local/lib/python3.7/dist-packages/ipykernel_launcher.py:11: SettingWithCopyWarning: \n",
            "A value is trying to be set on a copy of a slice from a DataFrame.\n",
            "Try using .loc[row_indexer,col_indexer] = value instead\n",
            "\n",
            "See the caveats in the documentation: https://pandas.pydata.org/pandas-docs/stable/user_guide/indexing.html#returning-a-view-versus-a-copy\n",
            "  # This is added back by InteractiveShellApp.init_path()\n",
            "/usr/local/lib/python3.7/dist-packages/seaborn/_decorators.py:43: FutureWarning: Pass the following variable as a keyword arg: x. From version 0.12, the only valid positional argument will be `data`, and passing other arguments without an explicit keyword will result in an error or misinterpretation.\n",
            "  FutureWarning\n"
          ]
        },
        {
          "output_type": "display_data",
          "data": {
            "image/png": "[encoded data removed]",
            "text/plain": [
              "<Figure size 432x288 with 1 Axes>"
            ]
          },
          "metadata": {
            "needs_background": "light"
          }
        }
      ]
    },
    {
      "cell_type": "markdown",
      "source": [
        "#Analysis\n",
        "As for this analysis part, it was already implemented in the previous submission of milestone 1, so this file should contain all the requirements of milestone 1 + milestone 2\n"
      ],
      "metadata": {
        "id": "piFtxt4h5bRk"
      }
    }
  ]
}